{
 "cells": [
  {
   "cell_type": "code",
   "execution_count": 84,
   "id": "dd786d0e",
   "metadata": {},
   "outputs": [],
   "source": [
    "import pandas as pd\n",
    "from pathlib import Path\n",
    "import librosa\n",
    "import soundfile as sf\n",
    "import numpy as np"
   ]
  },
  {
   "cell_type": "code",
   "execution_count": 85,
   "id": "426460b0",
   "metadata": {},
   "outputs": [],
   "source": [
    "def get_noise_intervals(df: pd.DataFrame, file_col: str, start_col: str, end_col: str, total_dur_lookup: dict, min_len=2.0):\n",
    "    \"\"\"Return list of noise intervals [(filename, start, end)]\"\"\"\n",
    "    noise_intervals = []\n",
    "\n",
    "    for fname, group in df.groupby(file_col):\n",
    "        total_dur = total_dur_lookup[fname]  # you can precompute this with librosa.get_duration()\n",
    "        bird_segments = sorted(group[[start_col, end_col]].values.tolist())\n",
    "        \n",
    "        prev_end = 0.0\n",
    "        for start, end in bird_segments:\n",
    "            if start - prev_end > min_len:\n",
    "                noise_intervals.append((fname, prev_end, start))\n",
    "            prev_end = end\n",
    "        \n",
    "        # Add tail segment\n",
    "        if total_dur - prev_end > min_len:\n",
    "            noise_intervals.append((fname, prev_end, total_dur))\n",
    "    return noise_intervals"
   ]
  },
  {
   "cell_type": "code",
   "execution_count": 86,
   "id": "1d6723ec",
   "metadata": {},
   "outputs": [],
   "source": [
    "def extract_noise_segments(noise_intervals, in_dir, out_dir, sr=22050, max_dur=3.0):\n",
    "    Path(out_dir).mkdir(parents=True, exist_ok=True)\n",
    "    \n",
    "    for i, (fname, start, end) in enumerate(noise_intervals):\n",
    "        y, _ = librosa.load(in_dir / fname, sr=sr, offset=start, duration=min(end - start, max_dur))\n",
    "        if len(y) > 0:\n",
    "            sf.write(f\"{out_dir}/noise_{i:04d}.wav\", y, sr)"
   ]
  },
  {
   "cell_type": "code",
   "execution_count": 87,
   "id": "be678435",
   "metadata": {},
   "outputs": [],
   "source": [
    "def get_total_durations(recordings_path: Path, file_list):\n",
    "    \"\"\"\n",
    "    Compute total duration (in seconds) for each audio file in file_list.\n",
    "    \"\"\"\n",
    "    total_dur_lookup = {}\n",
    "    for f in tqdm(file_list, desc=\"Computing durations\"):\n",
    "        fpath = recordings_path / f\n",
    "        try:\n",
    "            dur = librosa.get_duration(path=fpath)\n",
    "            total_dur_lookup[f] = dur\n",
    "        except Exception as e:\n",
    "            print(f\"Could not read {f}: {e}\")\n",
    "    return total_dur_lookup"
   ]
  },
  {
   "cell_type": "code",
   "execution_count": 88,
   "id": "905a62a9",
   "metadata": {},
   "outputs": [
    {
     "name": "stdout",
     "output_type": "stream",
     "text": [
      "annotations:  True\n",
      "recordings:  True\n"
     ]
    }
   ],
   "source": [
    "annotations_file = Path(\"~/data/kenya_birds/annotations.csv\").expanduser()\n",
    "recordings_path = Path(\"~/data/kenya_birds/soundscape_data/\").expanduser()\n",
    "\n",
    "print(\"annotations: \", annotations_file.exists())\n",
    "print(\"recordings: \", recordings_path.exists())"
   ]
  },
  {
   "cell_type": "code",
   "execution_count": 89,
   "id": "f01eea57",
   "metadata": {},
   "outputs": [
    {
     "data": {
      "text/html": [
       "<div>\n",
       "<style scoped>\n",
       "    .dataframe tbody tr th:only-of-type {\n",
       "        vertical-align: middle;\n",
       "    }\n",
       "\n",
       "    .dataframe tbody tr th {\n",
       "        vertical-align: top;\n",
       "    }\n",
       "\n",
       "    .dataframe thead th {\n",
       "        text-align: right;\n",
       "    }\n",
       "</style>\n",
       "<table border=\"1\" class=\"dataframe\">\n",
       "  <thead>\n",
       "    <tr style=\"text-align: right;\">\n",
       "      <th></th>\n",
       "      <th>Filename</th>\n",
       "      <th>Start Time (s)</th>\n",
       "      <th>End Time (s)</th>\n",
       "      <th>Species eBird Code</th>\n",
       "    </tr>\n",
       "  </thead>\n",
       "  <tbody>\n",
       "    <tr>\n",
       "      <th>0</th>\n",
       "      <td>KEN_001_20211207_153852.flac</td>\n",
       "      <td>67.8</td>\n",
       "      <td>67.8</td>\n",
       "      <td>slcbou1</td>\n",
       "    </tr>\n",
       "    <tr>\n",
       "      <th>1</th>\n",
       "      <td>KEN_001_20211207_153852.flac</td>\n",
       "      <td>106.8</td>\n",
       "      <td>106.8</td>\n",
       "      <td>slcbou1</td>\n",
       "    </tr>\n",
       "    <tr>\n",
       "      <th>2</th>\n",
       "      <td>KEN_001_20211207_153852.flac</td>\n",
       "      <td>107.5</td>\n",
       "      <td>107.5</td>\n",
       "      <td>hamerk1</td>\n",
       "    </tr>\n",
       "    <tr>\n",
       "      <th>3</th>\n",
       "      <td>KEN_001_20211207_153852.flac</td>\n",
       "      <td>118.4</td>\n",
       "      <td>118.4</td>\n",
       "      <td>slcbou1</td>\n",
       "    </tr>\n",
       "    <tr>\n",
       "      <th>4</th>\n",
       "      <td>KEN_001_20211207_153852.flac</td>\n",
       "      <td>209.1</td>\n",
       "      <td>209.1</td>\n",
       "      <td>hamerk1</td>\n",
       "    </tr>\n",
       "  </tbody>\n",
       "</table>\n",
       "</div>"
      ],
      "text/plain": [
       "                       Filename  Start Time (s)  End Time (s)  \\\n",
       "0  KEN_001_20211207_153852.flac            67.8          67.8   \n",
       "1  KEN_001_20211207_153852.flac           106.8         106.8   \n",
       "2  KEN_001_20211207_153852.flac           107.5         107.5   \n",
       "3  KEN_001_20211207_153852.flac           118.4         118.4   \n",
       "4  KEN_001_20211207_153852.flac           209.1         209.1   \n",
       "\n",
       "  Species eBird Code  \n",
       "0            slcbou1  \n",
       "1            slcbou1  \n",
       "2            hamerk1  \n",
       "3            slcbou1  \n",
       "4            hamerk1  "
      ]
     },
     "execution_count": 89,
     "metadata": {},
     "output_type": "execute_result"
    }
   ],
   "source": [
    "df = pd.read_csv(annotations_file)\n",
    "\n",
    "df.head()"
   ]
  },
  {
   "cell_type": "code",
   "execution_count": 90,
   "id": "dacc8013",
   "metadata": {},
   "outputs": [
    {
     "name": "stderr",
     "output_type": "stream",
     "text": [
      "Computing durations: 100%|██████████| 35/35 [00:00<00:00, 13793.16it/s]"
     ]
    },
    {
     "name": "stdout",
     "output_type": "stream",
     "text": [
      "Duration of first file: ('KEN_001_20211207_153852.flac', 3600.0)\n"
     ]
    },
    {
     "name": "stderr",
     "output_type": "stream",
     "text": [
      "\n"
     ]
    }
   ],
   "source": [
    "file_list = df[\"Filename\"].unique()\n",
    "\n",
    "total_dur_lookup = get_total_durations(recordings_path, file_list)\n",
    "\n",
    "# Example check\n",
    "print(f\"Duration of first file: {next(iter(total_dur_lookup.items()))}\")\n"
   ]
  },
  {
   "cell_type": "code",
   "execution_count": 91,
   "id": "611f35e2",
   "metadata": {},
   "outputs": [],
   "source": [
    "noise_intervals = get_noise_intervals(\n",
    "    df=df,\n",
    "    file_col=\"Filename\",\n",
    "    start_col=\"Start Time (s)\",\n",
    "    end_col=\"End Time (s)\",\n",
    "    total_dur_lookup=total_dur_lookup,\n",
    "    min_len=3.0\n",
    ")"
   ]
  },
  {
   "cell_type": "code",
   "execution_count": 92,
   "id": "b4edbb5e",
   "metadata": {},
   "outputs": [],
   "source": [
    "noise_dir = recordings_path / \"noise_clips\"\n",
    "\n",
    "if not noise_dir.exists():\n",
    "    noise_dir.mkdir(parents=True)"
   ]
  },
  {
   "cell_type": "code",
   "execution_count": 94,
   "id": "31108e35",
   "metadata": {},
   "outputs": [
    {
     "ename": "KeyboardInterrupt",
     "evalue": "",
     "output_type": "error",
     "traceback": [
      "\u001b[31m---------------------------------------------------------------------------\u001b[39m",
      "\u001b[31mKeyboardInterrupt\u001b[39m                         Traceback (most recent call last)",
      "\u001b[36mCell\u001b[39m\u001b[36m \u001b[39m\u001b[32mIn[94]\u001b[39m\u001b[32m, line 1\u001b[39m\n\u001b[32m----> \u001b[39m\u001b[32m1\u001b[39m \u001b[43mextract_noise_segments\u001b[49m\u001b[43m(\u001b[49m\n\u001b[32m      2\u001b[39m \u001b[43m  \u001b[49m\u001b[43mnoise_intervals\u001b[49m\u001b[43m,\u001b[49m\u001b[43m \u001b[49m\n\u001b[32m      3\u001b[39m \u001b[43m  \u001b[49m\u001b[43min_dir\u001b[49m\u001b[43m=\u001b[49m\u001b[43mrecordings_path\u001b[49m\u001b[43m,\u001b[49m\n\u001b[32m      4\u001b[39m \u001b[43m  \u001b[49m\u001b[43mout_dir\u001b[49m\u001b[43m=\u001b[49m\u001b[43mnoise_dir\u001b[49m\u001b[43m,\u001b[49m\u001b[43m \u001b[49m\n\u001b[32m      5\u001b[39m \u001b[43m  \u001b[49m\u001b[43msr\u001b[49m\u001b[43m=\u001b[49m\u001b[32;43m22050\u001b[39;49m\u001b[43m,\u001b[49m\n\u001b[32m      6\u001b[39m \u001b[43m  \u001b[49m\u001b[43mmax_dur\u001b[49m\u001b[43m=\u001b[49m\u001b[32;43m3.0\u001b[39;49m\u001b[43m)\u001b[49m\n",
      "\u001b[36mCell\u001b[39m\u001b[36m \u001b[39m\u001b[32mIn[86]\u001b[39m\u001b[32m, line 7\u001b[39m, in \u001b[36mextract_noise_segments\u001b[39m\u001b[34m(noise_intervals, in_dir, out_dir, sr, max_dur)\u001b[39m\n\u001b[32m      5\u001b[39m y, _ = librosa.load(in_dir / fname, sr=sr, offset=start, duration=\u001b[38;5;28mmin\u001b[39m(end - start, max_dur))\n\u001b[32m      6\u001b[39m \u001b[38;5;28;01mif\u001b[39;00m \u001b[38;5;28mlen\u001b[39m(y) > \u001b[32m0\u001b[39m:\n\u001b[32m----> \u001b[39m\u001b[32m7\u001b[39m     \u001b[43msf\u001b[49m\u001b[43m.\u001b[49m\u001b[43mwrite\u001b[49m\u001b[43m(\u001b[49m\u001b[33;43mf\u001b[39;49m\u001b[33;43m\"\u001b[39;49m\u001b[38;5;132;43;01m{\u001b[39;49;00m\u001b[43mout_dir\u001b[49m\u001b[38;5;132;43;01m}\u001b[39;49;00m\u001b[33;43m/noise_\u001b[39;49m\u001b[38;5;132;43;01m{\u001b[39;49;00m\u001b[43mi\u001b[49m\u001b[38;5;132;43;01m:\u001b[39;49;00m\u001b[33;43m04d\u001b[39;49m\u001b[38;5;132;43;01m}\u001b[39;49;00m\u001b[33;43m.wav\u001b[39;49m\u001b[33;43m\"\u001b[39;49m\u001b[43m,\u001b[49m\u001b[43m \u001b[49m\u001b[43my\u001b[49m\u001b[43m,\u001b[49m\u001b[43m \u001b[49m\u001b[43msr\u001b[49m\u001b[43m)\u001b[49m\n",
      "\u001b[36mFile \u001b[39m\u001b[32m~/.venv/lib/python3.12/site-packages/soundfile.py:363\u001b[39m, in \u001b[36mwrite\u001b[39m\u001b[34m(file, data, samplerate, subtype, endian, format, closefd, compression_level, bitrate_mode)\u001b[39m\n\u001b[32m    361\u001b[39m \u001b[38;5;28;01melse\u001b[39;00m:\n\u001b[32m    362\u001b[39m     channels = data.shape[\u001b[32m1\u001b[39m]\n\u001b[32m--> \u001b[39m\u001b[32m363\u001b[39m \u001b[43m\u001b[49m\u001b[38;5;28;43;01mwith\u001b[39;49;00m\u001b[43m \u001b[49m\u001b[43mSoundFile\u001b[49m\u001b[43m(\u001b[49m\u001b[43mfile\u001b[49m\u001b[43m,\u001b[49m\u001b[43m \u001b[49m\u001b[33;43m'\u001b[39;49m\u001b[33;43mw\u001b[39;49m\u001b[33;43m'\u001b[39;49m\u001b[43m,\u001b[49m\u001b[43m \u001b[49m\u001b[43msamplerate\u001b[49m\u001b[43m,\u001b[49m\u001b[43m \u001b[49m\u001b[43mchannels\u001b[49m\u001b[43m,\u001b[49m\n\u001b[32m    364\u001b[39m \u001b[43m               \u001b[49m\u001b[43msubtype\u001b[49m\u001b[43m,\u001b[49m\u001b[43m \u001b[49m\u001b[43mendian\u001b[49m\u001b[43m,\u001b[49m\u001b[43m \u001b[49m\u001b[38;5;28;43mformat\u001b[39;49m\u001b[43m,\u001b[49m\u001b[43m \u001b[49m\u001b[43mclosefd\u001b[49m\u001b[43m,\u001b[49m\n\u001b[32m    365\u001b[39m \u001b[43m               \u001b[49m\u001b[43mcompression_level\u001b[49m\u001b[43m,\u001b[49m\u001b[43m \u001b[49m\u001b[43mbitrate_mode\u001b[49m\u001b[43m)\u001b[49m\u001b[43m \u001b[49m\u001b[38;5;28;43;01mas\u001b[39;49;00m\u001b[43m \u001b[49m\u001b[43mf\u001b[49m\u001b[43m:\u001b[49m\n\u001b[32m    366\u001b[39m \u001b[43m    \u001b[49m\u001b[43mf\u001b[49m\u001b[43m.\u001b[49m\u001b[43mwrite\u001b[49m\u001b[43m(\u001b[49m\u001b[43mdata\u001b[49m\u001b[43m)\u001b[49m\n",
      "\u001b[36mFile \u001b[39m\u001b[32m~/.venv/lib/python3.12/site-packages/soundfile.py:770\u001b[39m, in \u001b[36mSoundFile.__exit__\u001b[39m\u001b[34m(self, *args)\u001b[39m\n\u001b[32m    769\u001b[39m \u001b[38;5;28;01mdef\u001b[39;00m\u001b[38;5;250m \u001b[39m\u001b[34m__exit__\u001b[39m(\u001b[38;5;28mself\u001b[39m, *args):\n\u001b[32m--> \u001b[39m\u001b[32m770\u001b[39m     \u001b[38;5;28;43mself\u001b[39;49m\u001b[43m.\u001b[49m\u001b[43mclose\u001b[49m\u001b[43m(\u001b[49m\u001b[43m)\u001b[49m\n",
      "\u001b[36mFile \u001b[39m\u001b[32m~/.venv/lib/python3.12/site-packages/soundfile.py:1234\u001b[39m, in \u001b[36mSoundFile.close\u001b[39m\u001b[34m(self)\u001b[39m\n\u001b[32m   1231\u001b[39m \u001b[38;5;250m\u001b[39m\u001b[33;03m\"\"\"Close the file.  Can be called multiple times.\"\"\"\u001b[39;00m\n\u001b[32m   1232\u001b[39m \u001b[38;5;28;01mif\u001b[39;00m \u001b[38;5;129;01mnot\u001b[39;00m \u001b[38;5;28mself\u001b[39m.closed:\n\u001b[32m   1233\u001b[39m     \u001b[38;5;66;03m# be sure to flush data to disk before closing the file\u001b[39;00m\n\u001b[32m-> \u001b[39m\u001b[32m1234\u001b[39m     \u001b[38;5;28;43mself\u001b[39;49m\u001b[43m.\u001b[49m\u001b[43mflush\u001b[49m\u001b[43m(\u001b[49m\u001b[43m)\u001b[49m\n\u001b[32m   1235\u001b[39m     err = _snd.sf_close(\u001b[38;5;28mself\u001b[39m._file)\n\u001b[32m   1236\u001b[39m     \u001b[38;5;28mself\u001b[39m._file = \u001b[38;5;28;01mNone\u001b[39;00m\n",
      "\u001b[36mFile \u001b[39m\u001b[32m~/.venv/lib/python3.12/site-packages/soundfile.py:1228\u001b[39m, in \u001b[36mSoundFile.flush\u001b[39m\u001b[34m(self)\u001b[39m\n\u001b[32m   1217\u001b[39m \u001b[38;5;250m\u001b[39m\u001b[33;03m\"\"\"Write unwritten data to the file system.\u001b[39;00m\n\u001b[32m   1218\u001b[39m \n\u001b[32m   1219\u001b[39m \u001b[33;03mData written with `write()` is not immediately written to\u001b[39;00m\n\u001b[32m   (...)\u001b[39m\u001b[32m   1225\u001b[39m \n\u001b[32m   1226\u001b[39m \u001b[33;03m\"\"\"\u001b[39;00m\n\u001b[32m   1227\u001b[39m \u001b[38;5;28mself\u001b[39m._check_if_closed()\n\u001b[32m-> \u001b[39m\u001b[32m1228\u001b[39m \u001b[43m_snd\u001b[49m\u001b[43m.\u001b[49m\u001b[43msf_write_sync\u001b[49m\u001b[43m(\u001b[49m\u001b[38;5;28;43mself\u001b[39;49m\u001b[43m.\u001b[49m\u001b[43m_file\u001b[49m\u001b[43m)\u001b[49m\n",
      "\u001b[31mKeyboardInterrupt\u001b[39m: "
     ]
    }
   ],
   "source": [
    "extract_noise_segments(\n",
    "  noise_intervals, \n",
    "  in_dir=recordings_path,\n",
    "  out_dir=noise_dir, \n",
    "  sr=22050,\n",
    "  max_dur=3.0)"
   ]
  }
 ],
 "metadata": {
  "kernelspec": {
   "display_name": ".venv",
   "language": "python",
   "name": "python3"
  },
  "language_info": {
   "codemirror_mode": {
    "name": "ipython",
    "version": 3
   },
   "file_extension": ".py",
   "mimetype": "text/x-python",
   "name": "python",
   "nbconvert_exporter": "python",
   "pygments_lexer": "ipython3",
   "version": "3.12.3"
  }
 },
 "nbformat": 4,
 "nbformat_minor": 5
}
