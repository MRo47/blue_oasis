{
 "cells": [
  {
   "cell_type": "code",
   "execution_count": 15,
   "id": "dd786d0e",
   "metadata": {},
   "outputs": [],
   "source": [
    "import pandas as pd\n",
    "from pathlib import Path\n",
    "import librosa\n",
    "import soundfile as sf\n",
    "from tqdm import tqdm"
   ]
  },
  {
   "cell_type": "code",
   "execution_count": 16,
   "id": "426460b0",
   "metadata": {},
   "outputs": [],
   "source": [
    "def get_noise_intervals(df: pd.DataFrame, file_col: str, start_col: str, end_col: str, total_dur_lookup: dict, min_len=2.0):\n",
    "    \"\"\"Return list of noise intervals [(filename, start, end)]\"\"\"\n",
    "    noise_intervals = []\n",
    "\n",
    "    for fname, group in df.groupby(file_col):\n",
    "        total_dur = total_dur_lookup[fname]  # you can precompute this with librosa.get_duration()\n",
    "        bird_segments = sorted(group[[start_col, end_col]].values.tolist())\n",
    "        \n",
    "        prev_end = 0.0\n",
    "        for start, end in bird_segments:\n",
    "            if start - prev_end > min_len:\n",
    "                noise_intervals.append((fname, prev_end, start))\n",
    "            prev_end = end\n",
    "        \n",
    "        # Add tail segment\n",
    "        if total_dur - prev_end > min_len:\n",
    "            noise_intervals.append((fname, prev_end, total_dur))\n",
    "    return noise_intervals"
   ]
  },
  {
   "cell_type": "code",
   "execution_count": 17,
   "id": "1d6723ec",
   "metadata": {},
   "outputs": [],
   "source": [
    "def extract_noise_segments(noise_intervals, in_dir, out_dir, sr=22050, max_dur=3.0):\n",
    "    Path(out_dir).mkdir(parents=True, exist_ok=True)\n",
    "    \n",
    "    for i, (fname, start, end) in enumerate(noise_intervals):\n",
    "        y, _ = librosa.load(in_dir / fname, sr=sr, offset=start, duration=min(end - start, max_dur))\n",
    "        if len(y) > 0:\n",
    "            sf.write(f\"{out_dir}/noise_{i:04d}.wav\", y, sr)"
   ]
  },
  {
   "cell_type": "code",
   "execution_count": 18,
   "id": "be678435",
   "metadata": {},
   "outputs": [],
   "source": [
    "def get_total_durations(recordings_path: Path, file_list):\n",
    "    \"\"\"\n",
    "    Compute total duration (in seconds) for each audio file in file_list.\n",
    "    \"\"\"\n",
    "    total_dur_lookup = {}\n",
    "    for f in tqdm(file_list, desc=\"Computing durations\"):\n",
    "        fpath = recordings_path / f\n",
    "        try:\n",
    "            dur = librosa.get_duration(path=fpath)\n",
    "            total_dur_lookup[f] = dur\n",
    "        except Exception as e:\n",
    "            print(f\"Could not read {f}: {e}\")\n",
    "    return total_dur_lookup"
   ]
  },
  {
   "cell_type": "code",
   "execution_count": 19,
   "id": "905a62a9",
   "metadata": {},
   "outputs": [
    {
     "name": "stdout",
     "output_type": "stream",
     "text": [
      "annotations:  True\n",
      "recordings:  True\n"
     ]
    }
   ],
   "source": [
    "annotations_file = Path(\"~/data/kenya_birds/annotations.csv\").expanduser()\n",
    "recordings_path = Path(\"~/data/kenya_birds/soundscape_data/\").expanduser()\n",
    "\n",
    "print(\"annotations: \", annotations_file.exists())\n",
    "print(\"recordings: \", recordings_path.exists())"
   ]
  },
  {
   "cell_type": "code",
   "execution_count": 20,
   "id": "f01eea57",
   "metadata": {},
   "outputs": [
    {
     "data": {
      "text/html": [
       "<div>\n",
       "<style scoped>\n",
       "    .dataframe tbody tr th:only-of-type {\n",
       "        vertical-align: middle;\n",
       "    }\n",
       "\n",
       "    .dataframe tbody tr th {\n",
       "        vertical-align: top;\n",
       "    }\n",
       "\n",
       "    .dataframe thead th {\n",
       "        text-align: right;\n",
       "    }\n",
       "</style>\n",
       "<table border=\"1\" class=\"dataframe\">\n",
       "  <thead>\n",
       "    <tr style=\"text-align: right;\">\n",
       "      <th></th>\n",
       "      <th>Filename</th>\n",
       "      <th>Start Time (s)</th>\n",
       "      <th>End Time (s)</th>\n",
       "      <th>Species eBird Code</th>\n",
       "    </tr>\n",
       "  </thead>\n",
       "  <tbody>\n",
       "    <tr>\n",
       "      <th>0</th>\n",
       "      <td>KEN_001_20211207_153852.flac</td>\n",
       "      <td>67.8</td>\n",
       "      <td>67.8</td>\n",
       "      <td>slcbou1</td>\n",
       "    </tr>\n",
       "    <tr>\n",
       "      <th>1</th>\n",
       "      <td>KEN_001_20211207_153852.flac</td>\n",
       "      <td>106.8</td>\n",
       "      <td>106.8</td>\n",
       "      <td>slcbou1</td>\n",
       "    </tr>\n",
       "    <tr>\n",
       "      <th>2</th>\n",
       "      <td>KEN_001_20211207_153852.flac</td>\n",
       "      <td>107.5</td>\n",
       "      <td>107.5</td>\n",
       "      <td>hamerk1</td>\n",
       "    </tr>\n",
       "    <tr>\n",
       "      <th>3</th>\n",
       "      <td>KEN_001_20211207_153852.flac</td>\n",
       "      <td>118.4</td>\n",
       "      <td>118.4</td>\n",
       "      <td>slcbou1</td>\n",
       "    </tr>\n",
       "    <tr>\n",
       "      <th>4</th>\n",
       "      <td>KEN_001_20211207_153852.flac</td>\n",
       "      <td>209.1</td>\n",
       "      <td>209.1</td>\n",
       "      <td>hamerk1</td>\n",
       "    </tr>\n",
       "  </tbody>\n",
       "</table>\n",
       "</div>"
      ],
      "text/plain": [
       "                       Filename  Start Time (s)  End Time (s)  \\\n",
       "0  KEN_001_20211207_153852.flac            67.8          67.8   \n",
       "1  KEN_001_20211207_153852.flac           106.8         106.8   \n",
       "2  KEN_001_20211207_153852.flac           107.5         107.5   \n",
       "3  KEN_001_20211207_153852.flac           118.4         118.4   \n",
       "4  KEN_001_20211207_153852.flac           209.1         209.1   \n",
       "\n",
       "  Species eBird Code  \n",
       "0            slcbou1  \n",
       "1            slcbou1  \n",
       "2            hamerk1  \n",
       "3            slcbou1  \n",
       "4            hamerk1  "
      ]
     },
     "execution_count": 20,
     "metadata": {},
     "output_type": "execute_result"
    }
   ],
   "source": [
    "df = pd.read_csv(annotations_file)\n",
    "\n",
    "df.head()"
   ]
  },
  {
   "cell_type": "code",
   "execution_count": 21,
   "id": "dacc8013",
   "metadata": {},
   "outputs": [
    {
     "name": "stderr",
     "output_type": "stream",
     "text": [
      "Computing durations:   0%|          | 0/35 [00:00<?, ?it/s]"
     ]
    },
    {
     "name": "stderr",
     "output_type": "stream",
     "text": [
      "Computing durations: 100%|██████████| 35/35 [00:00<00:00, 56.25it/s]"
     ]
    },
    {
     "name": "stdout",
     "output_type": "stream",
     "text": [
      "Duration of first file: ('KEN_001_20211207_153852.flac', 3600.0)\n"
     ]
    },
    {
     "name": "stderr",
     "output_type": "stream",
     "text": [
      "\n"
     ]
    }
   ],
   "source": [
    "file_list = df[\"Filename\"].unique()\n",
    "\n",
    "total_dur_lookup = get_total_durations(recordings_path, file_list)\n",
    "\n",
    "# Example check\n",
    "print(f\"Duration of first file: {next(iter(total_dur_lookup.items()))}\")\n"
   ]
  },
  {
   "cell_type": "code",
   "execution_count": 22,
   "id": "611f35e2",
   "metadata": {},
   "outputs": [],
   "source": [
    "noise_intervals = get_noise_intervals(\n",
    "    df=df,\n",
    "    file_col=\"Filename\",\n",
    "    start_col=\"Start Time (s)\",\n",
    "    end_col=\"End Time (s)\",\n",
    "    total_dur_lookup=total_dur_lookup,\n",
    "    min_len=3.0\n",
    ")"
   ]
  },
  {
   "cell_type": "code",
   "execution_count": 23,
   "id": "b4edbb5e",
   "metadata": {},
   "outputs": [],
   "source": [
    "noise_dir = recordings_path / \"noise_clips\"\n",
    "\n",
    "if not noise_dir.exists():\n",
    "    noise_dir.mkdir(parents=True)"
   ]
  },
  {
   "cell_type": "code",
   "execution_count": null,
   "id": "31108e35",
   "metadata": {},
   "outputs": [],
   "source": [
    "extract_noise_segments(\n",
    "  noise_intervals, \n",
    "  in_dir=recordings_path,\n",
    "  out_dir=noise_dir, \n",
    "  sr=22050,\n",
    "  max_dur=3.0)"
   ]
  }
 ],
 "metadata": {
  "kernelspec": {
   "display_name": ".venv",
   "language": "python",
   "name": "python3"
  },
  "language_info": {
   "codemirror_mode": {
    "name": "ipython",
    "version": 3
   },
   "file_extension": ".py",
   "mimetype": "text/x-python",
   "name": "python",
   "nbconvert_exporter": "python",
   "pygments_lexer": "ipython3",
   "version": "3.12.3"
  }
 },
 "nbformat": 4,
 "nbformat_minor": 5
}
